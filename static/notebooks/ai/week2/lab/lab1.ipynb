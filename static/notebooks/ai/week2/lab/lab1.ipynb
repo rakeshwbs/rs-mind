{
 "cells": [
  {
   "cell_type": "markdown",
   "id": "3b817f84",
   "metadata": {},
   "source": [
    "# Lab 1: Supervised Learning - Regression 🚗\n",
    "\n",
    "#### 🎯 Objective\n",
    "To build a **simple linear regression model** that predicts a car’s **fuel efficiency (Miles Per Gallon, MPG)** based on its **weight**.\n",
    "\n",
    "---\n",
    "\n",
    "#### 📊 Dataset\n",
    "We’ll use the **Auto MPG dataset**, which contains technical specifications for various car models from the 1970s and 1980s.\n",
    "For simplicity, we’ll load it directly from a public source.\n",
    "\n",
    "---\n",
    "\n",
    "#### 🛠️ Prerequisites\n",
    "Make sure you have Python installed with the following libraries:\n",
    "\n",
    "```bash\n",
    "pip install pandas numpy matplotlib scikit-learn\n",
    "```\n",
    "### Step 1: Setup and Data Loading\n",
    "First, we need to import the necessary libraries and load our data into a pandas DataFrame. This allows us to easily view and manipulate the data.\n",
    "\n",
    "```python\n",
    "# Import necessary libraries\n",
    "import pandas as pd\n",
    "import numpy as np\n",
    "import matplotlib.pyplot as plt\n",
    "from sklearn.model_selection import train_test_split\n",
    "from sklearn.linear_model import LinearRegression\n",
    "from sklearn.metrics import r2_score\n",
    "\n",
    "# Load the dataset from a URL\n",
    "# The dataset uses '?' for missing values, so we'll tell pandas to recognize them\n",
    "url = 'https://raw.githubusercontent.com/mwaskom/seaborn-data/master/mpg.csv'\n",
    "df = pd.read_csv(url)\n",
    "\n",
    "# Display the first 5 rows to see what the data looks like\n",
    "print(\"First 5 rows of the dataset:\")\n",
    "print(df.head())\n",
    "# Get a quick summary of the data\n",
    "print(\"\\nDataset Information:\")\n",
    "df.info()\n",
    "```\n",
    "Explanation:\n",
    "* We've loaded the data and used .head() to peek at it.\n",
    "* The .info() command shows us the columns, the number of entries, and their data types.\n",
    "* We can see 'horsepower' has some missing values and is incorrectly typed as an 'object' (text) because of the missing data.\n",
    "\n",
    "### Step 2: Data Cleaning and Preparation\n",
    "\n",
    "Real-world data is rarely perfect. We need to handle the missing values in the 'horsepower' column. A simple strategy is to replace the missing values with the median of the column.\n",
    "```python\n",
    "# Check for missing values\n",
    "print(\"\\nMissing values before cleaning:\")\n",
    "print(df.isnull().sum())\n",
    "\n",
    "# The 'horsepower' column has 6 missing values. Let's handle them.\n",
    "# First, calculate the median of the horsepower column\n",
    "median_hp = df['horsepower'].median()\n",
    "\n",
    "# Now, fill the missing values with the median\n",
    "df['horsepower'].fillna(median_hp, inplace=True)\n",
    "\n",
    "# Confirm that the missing values are gone\n",
    "print(\"\\nMissing values after cleaning:\")\n",
    "print(df.isnull().sum())\n",
    "```\n",
    "Explanation:\n",
    "* We identified 6 missing values in 'horsepower'.\n",
    "* By filling them with the median value, we can now use this column for our analysis without errors.\n",
    "* The inplace=True argument modifies the DataFrame directly.\n",
    "\n",
    "### Step 3: Exploratory Data Analysis (EDA)\n",
    "Before building a model, it's crucial to visualize the data to understand the relationships between variables. Let's plot the relationship between the car's weight and its MPG.\n",
    "```python\n",
    "# Create a scatter plot to visualize the relationship\n",
    "plt.figure(figsize=(10, 6))\n",
    "plt.scatter(df['weight'], df['mpg'])\n",
    "plt.title('MPG vs. Weight of the Car')\n",
    "plt.xlabel('Weight (lbs)')\n",
    "plt.ylabel('Miles Per Gallon (MPG)')\n",
    "plt.grid(True)\n",
    "plt.show()\n",
    "```\n",
    "Explanation:\n",
    "* The plot clearly shows a negative linear relationship: as the weight of the car increases, its MPG tends to decrease.\n",
    "* This confirms that 'weight' is a good feature to use for predicting 'mpg'.\n",
    "\n",
    "\n",
    "\n",
    "\n",
    "\n",
    "\n",
    "\n",
    "\n",
    "\n",
    "\n",
    "\n",
    "\n",
    "\n",
    "\n",
    "\n",
    "\n",
    "\n",
    "\n",
    "\n",
    "\n",
    "\n",
    "\n",
    "\n",
    "\n",
    "\n",
    "\n",
    "\n",
    "\n"
   ]
  },
  {
   "cell_type": "markdown",
   "id": "ed78a456",
   "metadata": {},
   "source": [
    "### Step 4: Feature Selection and Data Splitting\n",
    "Now, we define our \"question\" (the features, X) and our \"answer\" (the target, y). We will then split our data into training and testing sets. The model learns from the training set and is evaluated on the unseen testing set.\n",
    "\n",
    "# Select our feature (X) and target (y)\n",
    "# For this lab, we'll use only 'weight' to predict 'mpg'\n"
   ]
  },
  {
   "cell_type": "code",
   "execution_count": null,
   "id": "9e8c8fab",
   "metadata": {},
   "outputs": [],
   "source": [
    "X = df[['weight']]  # Features must be in a 2D format (a DataFrame)\n",
    "y = df['mpg']      # Target is a 1D format (a Series)"
   ]
  },
  {
   "cell_type": "code",
   "execution_count": null,
   "id": "62c2f5d8",
   "metadata": {},
   "outputs": [],
   "source": [
    "# Split the data into training and testing sets (80% training, 20% testing)"
   ]
  },
  {
   "cell_type": "code",
   "execution_count": null,
   "id": "87e751a4",
   "metadata": {},
   "outputs": [],
   "source": [
    "X_train, X_test, y_train, y_test = train_test_split(X, y, test_size=0.2, random_state=42)\n",
    "\n",
    "print(f\"\\nTraining set size: {X_train.shape[0]} samples\")\n",
    "print(f\"Testing set size: {X_test.shape[0]} samples\")"
   ]
  },
  {
   "cell_type": "markdown",
   "id": "e437824b",
   "metadata": {},
   "source": [
    "Explanation:\n",
    "* We've designated 'weight' as our feature X and 'mpg' as our target y.\n",
    "* We then split the data, holding back 20% of it to test our model's performance later.\n",
    "* random_state=42 ensures that the split is the same every time we run the code."
   ]
  },
  {
   "cell_type": "markdown",
   "id": "80d65d7d",
   "metadata": {},
   "source": [
    "### Step 5: Model Training\n",
    "* It's time to train our Linear Regression model!\n",
    "* We'll create an instance of the model and use the .fit() method to learn the relationship between weight and MPG from our training data."
   ]
  },
  {
   "cell_type": "markdown",
   "id": "4eab29ad",
   "metadata": {},
   "source": [
    "# Create an instance of the Linear Regression model"
   ]
  },
  {
   "cell_type": "code",
   "execution_count": null,
   "id": "79620a58",
   "metadata": {},
   "outputs": [],
   "source": [
    "model = LinearRegression()"
   ]
  },
  {
   "cell_type": "markdown",
   "id": "2976f4bd",
   "metadata": {},
   "source": [
    "# Train the model on the training data"
   ]
  },
  {
   "cell_type": "code",
   "execution_count": null,
   "id": "5e5b61b3",
   "metadata": {},
   "outputs": [],
   "source": [
    "model.fit(X_train, y_train)\n",
    "print(\"\\nModel training complete!\")"
   ]
  },
  {
   "cell_type": "markdown",
   "id": "96b67900",
   "metadata": {},
   "source": [
    "Explanation:\n",
    "* The .fit() function is the core of the training process.\n",
    "* The model has now learned the optimal straight line that best describes the relationship in the training data."
   ]
  },
  {
   "cell_type": "markdown",
   "id": "45a17555",
   "metadata": {},
   "source": [
    "### Step 6: Model Evaluation\n",
    "\n",
    "* Now, let's see how well our trained model performs on the unseen test data.\n",
    "* We'll make predictions and compare them to the actual MPG values using the R-squared ($$\\R^2$$) metric.\n",
    "* Make predictions on the test data"
   ]
  },
  {
   "cell_type": "code",
   "execution_count": null,
   "id": "91bb084d",
   "metadata": {},
   "outputs": [],
   "source": [
    "y_pred = model.predict(X_test)"
   ]
  },
  {
   "cell_type": "markdown",
   "id": "39e48052",
   "metadata": {},
   "source": [
    "\n",
    "# Calculate the R-squared value of the model\n",
    "# R-squared tells us what proportion of the variance in the target is predictable from the feature"
   ]
  },
  {
   "cell_type": "code",
   "execution_count": null,
   "id": "c22f05ed",
   "metadata": {},
   "outputs": [],
   "source": [
    "r2 = r2_score(y_test, y_pred)\n",
    "\n",
    "print(f\"\\nR-squared of the model on the test set: {r2:.4f}\")"
   ]
  },
  {
   "cell_type": "markdown",
   "id": "6f545a79",
   "metadata": {},
   "source": [
    "# Let's also visualize the regression line on the test data"
   ]
  },
  {
   "cell_type": "code",
   "execution_count": null,
   "id": "a2f41c23",
   "metadata": {},
   "outputs": [],
   "source": [
    "plt.figure(figsize=(10, 6))\n",
    "plt.scatter(X_test, y_test, color='blue', label='Actual MPG')\n",
    "plt.plot(X_test, y_pred, color='red', linewidth=2, label='Predicted MPG (Regression Line)')\n",
    "plt.title('Model Performance on Test Data')\n",
    "plt.xlabel('Weight (lbs)')\n",
    "plt.ylabel('Miles Per Gallon (MPG)')\n",
    "plt.legend()\n",
    "plt.grid(True)\n",
    "plt.show()\n"
   ]
  },
  {
   "cell_type": "markdown",
   "id": "5788259d",
   "metadata": {},
   "source": [
    "Explanation:\n",
    "An $$R^2$$ value of around 0.69 means that approximately 69% of the variability in the MPG can be explained by the car's weight using our model.\n",
    "The plot shows our regression line, which represents the model's predictions, cutting through the actual data points."
   ]
  }
 ],
 "metadata": {
  "language_info": {
   "name": "python"
  }
 },
 "nbformat": 4,
 "nbformat_minor": 5
}
